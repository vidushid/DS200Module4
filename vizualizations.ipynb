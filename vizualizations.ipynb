{
  "cells": [
    {
      "cell_type": "code",
      "source": [
        "from google.colab import drive\n",
        "drive.mount('/content/drive')"
      ],
      "metadata": {
        "colab": {
          "base_uri": "https://localhost:8080/"
        },
        "id": "eHKQLpgznyza",
        "outputId": "3e5ce480-de6c-4145-d58d-fbec473d4f99"
      },
      "execution_count": null,
      "outputs": [
        {
          "output_type": "stream",
          "name": "stdout",
          "text": [
            "Drive already mounted at /content/drive; to attempt to forcibly remount, call drive.mount(\"/content/drive\", force_remount=True).\n"
          ]
        }
      ]
    },
    {
      "cell_type": "code",
      "execution_count": null,
      "metadata": {
        "id": "-O8WwALimC-g"
      },
      "outputs": [],
      "source": [
        "import pandas as pd\n",
        "import numpy as np\n",
        "import matplotlib.pyplot as plt"
      ]
    },
    {
      "cell_type": "code",
      "execution_count": null,
      "metadata": {
        "scrolled": true,
        "colab": {
          "base_uri": "https://localhost:8080/",
          "height": 392
        },
        "id": "1jxg4_jvmC-j",
        "outputId": "4fcf52da-d2e9-451c-a27c-eaa9b4e5e7ad"
      },
      "outputs": [
        {
          "output_type": "execute_result",
          "data": {
            "text/plain": [
              "                 STATE/U.T.  Enrolment in Class I - Boys  \\\n",
              "0  Andaman  Nicobar Islands                         2163   \n",
              "1            Andhra Pradesh                       558085   \n",
              "2         Arunachal Pradesh                        23412   \n",
              "3                     Assam                       341859   \n",
              "4                     Bihar                      1780830   \n",
              "\n",
              "   Enrolment in Class I - Girls  Enrolment in Class I - Total  \\\n",
              "0                          2065                          4228   \n",
              "1                        540228                       1098313   \n",
              "2                         21262                         44674   \n",
              "3                        333590                        675449   \n",
              "4                       1671065                       3451895   \n",
              "\n",
              "   Enrolment in Class II - Boys  Enrolment in Class II - Girls  \\\n",
              "0                          2085                           1963   \n",
              "1                        480903                         477268   \n",
              "2                         18174                          16273   \n",
              "3                        282068                         277551   \n",
              "4                       1599825                        1514570   \n",
              "\n",
              "   Enrolment in Class II - Total  Enrolment in Class III - Boys  \\\n",
              "0                           4048                           2091   \n",
              "1                         958171                         471083   \n",
              "2                          34447                          16131   \n",
              "3                         559619                         254896   \n",
              "4                        3114395                        1547705   \n",
              "\n",
              "   Enrolment in Class III - Girls  Enrolment in Class III - Total  \\\n",
              "0                            2041                            4132   \n",
              "1                          467679                          938762   \n",
              "2                           14679                           30810   \n",
              "3                          253455                          508351   \n",
              "4                         1445639                         2993344   \n",
              "\n",
              "   Enrolment in Class IV - Boys  Enrolment in Class IV - Girls  \\\n",
              "0                          2175                           2055   \n",
              "1                        460050                         458577   \n",
              "2                         13894                          12821   \n",
              "3                        236660                         238623   \n",
              "4                       1288401                        1156335   \n",
              "\n",
              "   Enrolment in Class IV - Total  Enrolment in Class V - Boys  \\\n",
              "0                           4230                         2150   \n",
              "1                         918627                       459696   \n",
              "2                          26715                        12467   \n",
              "3                         475283                       229937   \n",
              "4                        2444736                      1078188   \n",
              "\n",
              "   Enrolment in Class V - Girls  Enrolment in Class V - Total  \\\n",
              "0                          2151                          4301   \n",
              "1                        457553                        917249   \n",
              "2                         11108                         23575   \n",
              "3                        232349                        462286   \n",
              "4                        917265                       1995453   \n",
              "\n",
              "   Enrolment in Class I to V - Boys  Enrolment in Class I to V - Girls  \\\n",
              "0                             10664                              10275   \n",
              "1                           2429817                            2401305   \n",
              "2                             84078                              76143   \n",
              "3                           1345420                            1335568   \n",
              "4                           7294949                            6704874   \n",
              "\n",
              "   Enrolment in Class I to V - Total  \n",
              "0                              20939  \n",
              "1                            4831122  \n",
              "2                             160221  \n",
              "3                            2680988  \n",
              "4                           13999823  "
            ],
            "text/html": [
              "\n",
              "  <div id=\"df-328fca21-5224-4bfd-afb2-d223dc5516d8\">\n",
              "    <div class=\"colab-df-container\">\n",
              "      <div>\n",
              "<style scoped>\n",
              "    .dataframe tbody tr th:only-of-type {\n",
              "        vertical-align: middle;\n",
              "    }\n",
              "\n",
              "    .dataframe tbody tr th {\n",
              "        vertical-align: top;\n",
              "    }\n",
              "\n",
              "    .dataframe thead th {\n",
              "        text-align: right;\n",
              "    }\n",
              "</style>\n",
              "<table border=\"1\" class=\"dataframe\">\n",
              "  <thead>\n",
              "    <tr style=\"text-align: right;\">\n",
              "      <th></th>\n",
              "      <th>STATE/U.T.</th>\n",
              "      <th>Enrolment in Class I - Boys</th>\n",
              "      <th>Enrolment in Class I - Girls</th>\n",
              "      <th>Enrolment in Class I - Total</th>\n",
              "      <th>Enrolment in Class II - Boys</th>\n",
              "      <th>Enrolment in Class II - Girls</th>\n",
              "      <th>Enrolment in Class II - Total</th>\n",
              "      <th>Enrolment in Class III - Boys</th>\n",
              "      <th>Enrolment in Class III - Girls</th>\n",
              "      <th>Enrolment in Class III - Total</th>\n",
              "      <th>Enrolment in Class IV - Boys</th>\n",
              "      <th>Enrolment in Class IV - Girls</th>\n",
              "      <th>Enrolment in Class IV - Total</th>\n",
              "      <th>Enrolment in Class V - Boys</th>\n",
              "      <th>Enrolment in Class V - Girls</th>\n",
              "      <th>Enrolment in Class V - Total</th>\n",
              "      <th>Enrolment in Class I to V - Boys</th>\n",
              "      <th>Enrolment in Class I to V - Girls</th>\n",
              "      <th>Enrolment in Class I to V - Total</th>\n",
              "    </tr>\n",
              "  </thead>\n",
              "  <tbody>\n",
              "    <tr>\n",
              "      <th>0</th>\n",
              "      <td>Andaman  Nicobar Islands</td>\n",
              "      <td>2163</td>\n",
              "      <td>2065</td>\n",
              "      <td>4228</td>\n",
              "      <td>2085</td>\n",
              "      <td>1963</td>\n",
              "      <td>4048</td>\n",
              "      <td>2091</td>\n",
              "      <td>2041</td>\n",
              "      <td>4132</td>\n",
              "      <td>2175</td>\n",
              "      <td>2055</td>\n",
              "      <td>4230</td>\n",
              "      <td>2150</td>\n",
              "      <td>2151</td>\n",
              "      <td>4301</td>\n",
              "      <td>10664</td>\n",
              "      <td>10275</td>\n",
              "      <td>20939</td>\n",
              "    </tr>\n",
              "    <tr>\n",
              "      <th>1</th>\n",
              "      <td>Andhra Pradesh</td>\n",
              "      <td>558085</td>\n",
              "      <td>540228</td>\n",
              "      <td>1098313</td>\n",
              "      <td>480903</td>\n",
              "      <td>477268</td>\n",
              "      <td>958171</td>\n",
              "      <td>471083</td>\n",
              "      <td>467679</td>\n",
              "      <td>938762</td>\n",
              "      <td>460050</td>\n",
              "      <td>458577</td>\n",
              "      <td>918627</td>\n",
              "      <td>459696</td>\n",
              "      <td>457553</td>\n",
              "      <td>917249</td>\n",
              "      <td>2429817</td>\n",
              "      <td>2401305</td>\n",
              "      <td>4831122</td>\n",
              "    </tr>\n",
              "    <tr>\n",
              "      <th>2</th>\n",
              "      <td>Arunachal Pradesh</td>\n",
              "      <td>23412</td>\n",
              "      <td>21262</td>\n",
              "      <td>44674</td>\n",
              "      <td>18174</td>\n",
              "      <td>16273</td>\n",
              "      <td>34447</td>\n",
              "      <td>16131</td>\n",
              "      <td>14679</td>\n",
              "      <td>30810</td>\n",
              "      <td>13894</td>\n",
              "      <td>12821</td>\n",
              "      <td>26715</td>\n",
              "      <td>12467</td>\n",
              "      <td>11108</td>\n",
              "      <td>23575</td>\n",
              "      <td>84078</td>\n",
              "      <td>76143</td>\n",
              "      <td>160221</td>\n",
              "    </tr>\n",
              "    <tr>\n",
              "      <th>3</th>\n",
              "      <td>Assam</td>\n",
              "      <td>341859</td>\n",
              "      <td>333590</td>\n",
              "      <td>675449</td>\n",
              "      <td>282068</td>\n",
              "      <td>277551</td>\n",
              "      <td>559619</td>\n",
              "      <td>254896</td>\n",
              "      <td>253455</td>\n",
              "      <td>508351</td>\n",
              "      <td>236660</td>\n",
              "      <td>238623</td>\n",
              "      <td>475283</td>\n",
              "      <td>229937</td>\n",
              "      <td>232349</td>\n",
              "      <td>462286</td>\n",
              "      <td>1345420</td>\n",
              "      <td>1335568</td>\n",
              "      <td>2680988</td>\n",
              "    </tr>\n",
              "    <tr>\n",
              "      <th>4</th>\n",
              "      <td>Bihar</td>\n",
              "      <td>1780830</td>\n",
              "      <td>1671065</td>\n",
              "      <td>3451895</td>\n",
              "      <td>1599825</td>\n",
              "      <td>1514570</td>\n",
              "      <td>3114395</td>\n",
              "      <td>1547705</td>\n",
              "      <td>1445639</td>\n",
              "      <td>2993344</td>\n",
              "      <td>1288401</td>\n",
              "      <td>1156335</td>\n",
              "      <td>2444736</td>\n",
              "      <td>1078188</td>\n",
              "      <td>917265</td>\n",
              "      <td>1995453</td>\n",
              "      <td>7294949</td>\n",
              "      <td>6704874</td>\n",
              "      <td>13999823</td>\n",
              "    </tr>\n",
              "  </tbody>\n",
              "</table>\n",
              "</div>\n",
              "      <button class=\"colab-df-convert\" onclick=\"convertToInteractive('df-328fca21-5224-4bfd-afb2-d223dc5516d8')\"\n",
              "              title=\"Convert this dataframe to an interactive table.\"\n",
              "              style=\"display:none;\">\n",
              "        \n",
              "  <svg xmlns=\"http://www.w3.org/2000/svg\" height=\"24px\"viewBox=\"0 0 24 24\"\n",
              "       width=\"24px\">\n",
              "    <path d=\"M0 0h24v24H0V0z\" fill=\"none\"/>\n",
              "    <path d=\"M18.56 5.44l.94 2.06.94-2.06 2.06-.94-2.06-.94-.94-2.06-.94 2.06-2.06.94zm-11 1L8.5 8.5l.94-2.06 2.06-.94-2.06-.94L8.5 2.5l-.94 2.06-2.06.94zm10 10l.94 2.06.94-2.06 2.06-.94-2.06-.94-.94-2.06-.94 2.06-2.06.94z\"/><path d=\"M17.41 7.96l-1.37-1.37c-.4-.4-.92-.59-1.43-.59-.52 0-1.04.2-1.43.59L10.3 9.45l-7.72 7.72c-.78.78-.78 2.05 0 2.83L4 21.41c.39.39.9.59 1.41.59.51 0 1.02-.2 1.41-.59l7.78-7.78 2.81-2.81c.8-.78.8-2.07 0-2.86zM5.41 20L4 18.59l7.72-7.72 1.47 1.35L5.41 20z\"/>\n",
              "  </svg>\n",
              "      </button>\n",
              "      \n",
              "  <style>\n",
              "    .colab-df-container {\n",
              "      display:flex;\n",
              "      flex-wrap:wrap;\n",
              "      gap: 12px;\n",
              "    }\n",
              "\n",
              "    .colab-df-convert {\n",
              "      background-color: #E8F0FE;\n",
              "      border: none;\n",
              "      border-radius: 50%;\n",
              "      cursor: pointer;\n",
              "      display: none;\n",
              "      fill: #1967D2;\n",
              "      height: 32px;\n",
              "      padding: 0 0 0 0;\n",
              "      width: 32px;\n",
              "    }\n",
              "\n",
              "    .colab-df-convert:hover {\n",
              "      background-color: #E2EBFA;\n",
              "      box-shadow: 0px 1px 2px rgba(60, 64, 67, 0.3), 0px 1px 3px 1px rgba(60, 64, 67, 0.15);\n",
              "      fill: #174EA6;\n",
              "    }\n",
              "\n",
              "    [theme=dark] .colab-df-convert {\n",
              "      background-color: #3B4455;\n",
              "      fill: #D2E3FC;\n",
              "    }\n",
              "\n",
              "    [theme=dark] .colab-df-convert:hover {\n",
              "      background-color: #434B5C;\n",
              "      box-shadow: 0px 1px 3px 1px rgba(0, 0, 0, 0.15);\n",
              "      filter: drop-shadow(0px 1px 2px rgba(0, 0, 0, 0.3));\n",
              "      fill: #FFFFFF;\n",
              "    }\n",
              "  </style>\n",
              "\n",
              "      <script>\n",
              "        const buttonEl =\n",
              "          document.querySelector('#df-328fca21-5224-4bfd-afb2-d223dc5516d8 button.colab-df-convert');\n",
              "        buttonEl.style.display =\n",
              "          google.colab.kernel.accessAllowed ? 'block' : 'none';\n",
              "\n",
              "        async function convertToInteractive(key) {\n",
              "          const element = document.querySelector('#df-328fca21-5224-4bfd-afb2-d223dc5516d8');\n",
              "          const dataTable =\n",
              "            await google.colab.kernel.invokeFunction('convertToInteractive',\n",
              "                                                     [key], {});\n",
              "          if (!dataTable) return;\n",
              "\n",
              "          const docLinkHtml = 'Like what you see? Visit the ' +\n",
              "            '<a target=\"_blank\" href=https://colab.research.google.com/notebooks/data_table.ipynb>data table notebook</a>'\n",
              "            + ' to learn more about interactive tables.';\n",
              "          element.innerHTML = '';\n",
              "          dataTable['output_type'] = 'display_data';\n",
              "          await google.colab.output.renderOutput(dataTable, element);\n",
              "          const docLink = document.createElement('div');\n",
              "          docLink.innerHTML = docLinkHtml;\n",
              "          element.appendChild(docLink);\n",
              "        }\n",
              "      </script>\n",
              "    </div>\n",
              "  </div>\n",
              "  "
            ]
          },
          "metadata": {},
          "execution_count": 58
        }
      ],
      "source": [
        "data = pd.read_csv('/content/drive/MyDrive/Notability/education.csv')[:-1]\n",
        "data = data.drop(['Sl. No.'], axis=1)\n",
        "data.head()"
      ]
    },
    {
      "cell_type": "code",
      "execution_count": null,
      "metadata": {
        "id": "hcvl3tXKmC-m",
        "outputId": "8fe672a1-ea2d-47d7-efc2-7714785156c6",
        "colab": {
          "base_uri": "https://localhost:8080/"
        }
      },
      "outputs": [
        {
          "output_type": "execute_result",
          "data": {
            "text/plain": [
              "Index(['STATE/U.T.', 'Enrolment in Class I - Boys',\n",
              "       'Enrolment in Class I - Girls', 'Enrolment in Class I - Total',\n",
              "       'Enrolment in Class II - Boys', 'Enrolment in Class II - Girls',\n",
              "       'Enrolment in Class II - Total', 'Enrolment in Class III - Boys',\n",
              "       'Enrolment in Class III - Girls', 'Enrolment in Class III - Total',\n",
              "       'Enrolment in Class IV - Boys', 'Enrolment in Class IV - Girls',\n",
              "       'Enrolment in Class IV - Total', 'Enrolment in Class V - Boys',\n",
              "       'Enrolment in Class V - Girls', 'Enrolment in Class V - Total',\n",
              "       'Enrolment in Class I to V - Boys', 'Enrolment in Class I to V - Girls',\n",
              "       'Enrolment in Class I to V - Total'],\n",
              "      dtype='object')"
            ]
          },
          "metadata": {},
          "execution_count": 59
        }
      ],
      "source": [
        "data.columns"
      ]
    },
    {
      "cell_type": "code",
      "source": [
        "len(data['STATE/U.T.'])"
      ],
      "metadata": {
        "colab": {
          "base_uri": "https://localhost:8080/"
        },
        "id": "lac50MZ4_EVd",
        "outputId": "1fe0554b-e8e7-42b8-c280-28792dca03bb"
      },
      "execution_count": 63,
      "outputs": [
        {
          "output_type": "execute_result",
          "data": {
            "text/plain": [
              "35"
            ]
          },
          "metadata": {},
          "execution_count": 63
        }
      ]
    },
    {
      "cell_type": "code",
      "execution_count": 65,
      "metadata": {
        "id": "nMcr2BxQmC-n",
        "outputId": "79f2c55e-d141-4387-d201-067d95bf35af",
        "colab": {
          "base_uri": "https://localhost:8080/",
          "height": 469
        }
      },
      "outputs": [
        {
          "output_type": "display_data",
          "data": {
            "text/plain": [
              "<Figure size 504x504 with 1 Axes>"
            ],
            "image/png": "[encoded data removed]"
          },
          "metadata": {
            "needs_background": "light"
          }
        }
      ],
      "source": [
        "plt.figure(figsize=(7,7))\n",
        "plt.scatter(data['Enrolment in Class I - Girls'],data['Enrolment in Class V - Girls'], label='Girls')\n",
        "plt.scatter(data['Enrolment in Class V - Boys'],data['Enrolment in Class V - Boys'], label='Boys')\n",
        "xpoints = ypoints = plt.xlim()\n",
        "plt.plot(xpoints, ypoints, linestyle='--', color='k', lw=1, scalex=False, scaley=False, label='Ideal')\n",
        "plt.xticks(fontsize=12)\n",
        "plt.yticks(fontsize=12)\n",
        "plt.xlabel('Enrolment in Class I', fontsize=14)\n",
        "plt.ylabel('Enrolment in Class V', fontsize=14)\n",
        "plt.title('Enrolment in class V vs in class I for different states', fontsize=18)\n",
        "plt.legend(fontsize=12)\n",
        "plt.ticklabel_format(useOffset=False, style='plain')\n",
        "plt.grid()\n",
        "plt.show()"
      ]
    },
    {
      "cell_type": "code",
      "execution_count": 69,
      "metadata": {
        "id": "pInlGoOfmC-p",
        "outputId": "abd6b4a3-9b3c-4e7e-bb4f-08ef7b356792",
        "colab": {
          "base_uri": "https://localhost:8080/",
          "height": 457
        }
      },
      "outputs": [
        {
          "output_type": "display_data",
          "data": {
            "text/plain": [
              "<Figure size 1080x360 with 1 Axes>"
            ],
            "image/png": "[encoded data removed]"
          },
          "metadata": {
            "needs_background": "light"
          }
        }
      ],
      "source": [
        "\n",
        "plt.figure(figsize=(15,5))\n",
        "x = np.arange(len(data['STATE/U.T.'][11:21]))  \n",
        "width = 0.2\n",
        "plt.subplots\n",
        "plt.bar(x - width/2,data['Enrolment in Class I to V - Girls'][11:21],width,label='Girls')\n",
        "plt.bar(x + width/2,data['Enrolment in Class I to V - Boys'][11:21],width, label='Boys')\n",
        "\n",
        "plt.xticks( rotation = 90, fontsize=12)\n",
        "plt.yticks(fontsize=12)\n",
        "plt.xlabel('STATE/U.T.', fontsize=14)\n",
        "plt.ylabel('Enrolment in Class I to V', fontsize=14)\n",
        "plt.title('Statewise enrolments of Girls vs Boys', fontsize=18)\n",
        "plt.xticks(x, data['STATE/U.T.'][11:21])\n",
        "plt.legend()\n",
        "plt.grid()\n",
        "plt.show()"
      ]
    },
    {
      "cell_type": "code",
      "execution_count": null,
      "metadata": {
        "id": "koU_QB3emC-r",
        "outputId": "6681c349-1fe3-4d1b-f129-a0330d4e7fcf",
        "colab": {
          "base_uri": "https://localhost:8080/",
          "height": 472
        }
      },
      "outputs": [
        {
          "output_type": "display_data",
          "data": {
            "text/plain": [
              "<Figure size 1080x504 with 1 Axes>"
            ],
            "image/png": "[encoded data removed]"
          },
          "metadata": {
            "needs_background": "light"
          }
        }
      ],
      "source": [
        "plt.figure(figsize=(15,7))\n",
        "plt.boxplot([data['Enrolment in Class I - Total'],data['Enrolment in Class II - Total'],data['Enrolment in Class III - Total'],data['Enrolment in Class IV - Total'],data['Enrolment in Class V - Total']])\n",
        "plt.xticks(fontsize=14)\n",
        "plt.yticks(fontsize=14)\n",
        "plt.xlabel('Class', fontsize=16)\n",
        "plt.ylabel('Enrolment', fontsize=16)\n",
        "plt.title('Total enrolments in classes I to V across diffrent States', fontsize=20)\n",
        "plt.show()"
      ]
    }
  ],
  "metadata": {
    "kernelspec": {
      "display_name": "Python 3 (ipykernel)",
      "language": "python",
      "name": "python3"
    },
    "language_info": {
      "codemirror_mode": {
        "name": "ipython",
        "version": 3
      },
      "file_extension": ".py",
      "mimetype": "text/x-python",
      "name": "python",
      "nbconvert_exporter": "python",
      "pygments_lexer": "ipython3",
      "version": "3.9.12"
    },
    "colab": {
      "provenance": []
    }
  },
  "nbformat": 4,
  "nbformat_minor": 0
}